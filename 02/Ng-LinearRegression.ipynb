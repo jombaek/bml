{
 "cells": [
  {
   "cell_type": "markdown",
   "metadata": {
    "id": "gvhn07OSYRR7"
   },
   "source": [
    "# Линейная регрессия"
   ]
  },
  {
   "cell_type": "markdown",
   "metadata": {
    "id": "wU4ZyDHpYRSE"
   },
   "source": [
    "В этой записной книжке рассматривается решение на основе Python для первого упражнения по программированию из курса машинного обучения на Coursera. Пожалуйста, обратитесь к [тексту упражнения] (https://github.com/jdwittenauer/ipython-notebooks/blob/master/exercises/ML/ex1.pdf) для получения подробных описаний и уравнений.\n",
    "\n",
    "В этом упражнении мы реализуем простую линейную регрессию с использованием градиентного спуска и применим ее к модельной задачи. Мы также расширим нашу реализацию на случай нескольких переменных и применим ее к немного более сложному примеру."
   ]
  },
  {
   "cell_type": "markdown",
   "metadata": {
    "id": "l04Sx8oCYRSF"
   },
   "source": [
    "## С одной переменной"
   ]
  },
  {
   "cell_type": "markdown",
   "metadata": {},
   "source": [
    "### Знакомство с данными"
   ]
  },
  {
   "cell_type": "markdown",
   "metadata": {
    "id": "n0P-bsvbYRSG"
   },
   "source": [
    "В первой части упражнения перед нами стоит задача реализовать линейную регрессию с одной переменной для прогнозирования прибыли фургона с едой. Предположим, вы являетесь генеральным директором франшизы и рассматриваете возможность открытия новой точки в разных городах. В сети уже есть грузовики в разных городах, и у вас есть данные о прибылях и населении в городах. Моделируя прибыль как линейную функцию от населения, мы ищем прямую, наилучшим образом отражающую эту зависимость.\n",
    "\n",
    "Начнем с импорта некоторых библиотек и изучения данных."
   ]
  },
  {
   "cell_type": "code",
   "execution_count": 1,
   "metadata": {
    "id": "GXi5U3uMYRSH"
   },
   "outputs": [],
   "source": [
    "import numpy as np\n",
    "import pandas as pd\n",
    "\n",
    "%matplotlib notebook\n",
    "import matplotlib.pyplot as plt"
   ]
  },
  {
<<<<<<< HEAD
   "cell_type": "code",
   "execution_count": 2,
   "metadata": {},
   "outputs": [
    {
     "name": "stdout",
     "output_type": "stream",
     "text": [
      "C:\\Users\\zheny\n"
     ]
    }
   ],
=======
   "cell_type": "markdown",
   "metadata": {},
>>>>>>> upstream/main
   "source": [
    "Читаем данные, там два столбика. Посмотрим на размер, статистические характеристики, и нарисуем данные"
   ]
  },
  {
   "cell_type": "code",
   "execution_count": 3,
   "metadata": {
    "id": "NrLqsp90YRSH",
    "outputId": "4cc84fe7-fe6b-4a90-ebad-6e1bc5ec1112"
   },
<<<<<<< HEAD
   "outputs": [
    {
     "data": {
      "text/html": [
       "<div>\n",
       "<style scoped>\n",
       "    .dataframe tbody tr th:only-of-type {\n",
       "        vertical-align: middle;\n",
       "    }\n",
       "\n",
       "    .dataframe tbody tr th {\n",
       "        vertical-align: top;\n",
       "    }\n",
       "\n",
       "    .dataframe thead th {\n",
       "        text-align: right;\n",
       "    }\n",
       "</style>\n",
       "<table border=\"1\" class=\"dataframe\">\n",
       "  <thead>\n",
       "    <tr style=\"text-align: right;\">\n",
       "      <th></th>\n",
       "      <th>Population</th>\n",
       "      <th>Profit</th>\n",
       "    </tr>\n",
       "  </thead>\n",
       "  <tbody>\n",
       "    <tr>\n",
       "      <th>0</th>\n",
       "      <td>6.1101</td>\n",
       "      <td>17.5920</td>\n",
       "    </tr>\n",
       "    <tr>\n",
       "      <th>1</th>\n",
       "      <td>5.5277</td>\n",
       "      <td>9.1302</td>\n",
       "    </tr>\n",
       "    <tr>\n",
       "      <th>2</th>\n",
       "      <td>8.5186</td>\n",
       "      <td>13.6620</td>\n",
       "    </tr>\n",
       "    <tr>\n",
       "      <th>3</th>\n",
       "      <td>7.0032</td>\n",
       "      <td>11.8540</td>\n",
       "    </tr>\n",
       "    <tr>\n",
       "      <th>4</th>\n",
       "      <td>5.8598</td>\n",
       "      <td>6.8233</td>\n",
       "    </tr>\n",
       "  </tbody>\n",
       "</table>\n",
       "</div>"
      ],
      "text/plain": [
       "   Population   Profit\n",
       "0      6.1101  17.5920\n",
       "1      5.5277   9.1302\n",
       "2      8.5186  13.6620\n",
       "3      7.0032  11.8540\n",
       "4      5.8598   6.8233"
      ]
     },
     "execution_count": 3,
     "metadata": {},
     "output_type": "execute_result"
    }
   ],
=======
   "outputs": [],
>>>>>>> upstream/main
   "source": [
    "import os\n",
    "path = '../data/ex1data1.txt'\n",
    "data = pd.read_csv(path, header=None, names=['Population', 'Profit'])\n",
    "data.head()"
   ]
  },
  {
   "cell_type": "code",
   "execution_count": 6,
   "metadata": {
    "id": "U5flAXu9YRSJ",
    "outputId": "0167e40b-61cb-4f0b-cadd-9bd39c162f95"
   },
<<<<<<< HEAD
   "outputs": [
    {
     "data": {
      "text/html": [
       "<div>\n",
       "<style scoped>\n",
       "    .dataframe tbody tr th:only-of-type {\n",
       "        vertical-align: middle;\n",
       "    }\n",
       "\n",
       "    .dataframe tbody tr th {\n",
       "        vertical-align: top;\n",
       "    }\n",
       "\n",
       "    .dataframe thead th {\n",
       "        text-align: right;\n",
       "    }\n",
       "</style>\n",
       "<table border=\"1\" class=\"dataframe\">\n",
       "  <thead>\n",
       "    <tr style=\"text-align: right;\">\n",
       "      <th></th>\n",
       "      <th>Population</th>\n",
       "      <th>Profit</th>\n",
       "    </tr>\n",
       "  </thead>\n",
       "  <tbody>\n",
       "    <tr>\n",
       "      <th>count</th>\n",
       "      <td>97.000000</td>\n",
       "      <td>97.000000</td>\n",
       "    </tr>\n",
       "    <tr>\n",
       "      <th>mean</th>\n",
       "      <td>8.159800</td>\n",
       "      <td>5.839135</td>\n",
       "    </tr>\n",
       "    <tr>\n",
       "      <th>std</th>\n",
       "      <td>3.869884</td>\n",
       "      <td>5.510262</td>\n",
       "    </tr>\n",
       "    <tr>\n",
       "      <th>min</th>\n",
       "      <td>5.026900</td>\n",
       "      <td>-2.680700</td>\n",
       "    </tr>\n",
       "    <tr>\n",
       "      <th>25%</th>\n",
       "      <td>5.707700</td>\n",
       "      <td>1.986900</td>\n",
       "    </tr>\n",
       "    <tr>\n",
       "      <th>50%</th>\n",
       "      <td>6.589400</td>\n",
       "      <td>4.562300</td>\n",
       "    </tr>\n",
       "    <tr>\n",
       "      <th>75%</th>\n",
       "      <td>8.578100</td>\n",
       "      <td>7.046700</td>\n",
       "    </tr>\n",
       "    <tr>\n",
       "      <th>max</th>\n",
       "      <td>22.203000</td>\n",
       "      <td>24.147000</td>\n",
       "    </tr>\n",
       "  </tbody>\n",
       "</table>\n",
       "</div>"
      ],
      "text/plain": [
       "       Population     Profit\n",
       "count   97.000000  97.000000\n",
       "mean     8.159800   5.839135\n",
       "std      3.869884   5.510262\n",
       "min      5.026900  -2.680700\n",
       "25%      5.707700   1.986900\n",
       "50%      6.589400   4.562300\n",
       "75%      8.578100   7.046700\n",
       "max     22.203000  24.147000"
      ]
     },
     "execution_count": 6,
     "metadata": {},
     "output_type": "execute_result"
    }
   ],
=======
   "outputs": [],
>>>>>>> upstream/main
   "source": [
    "data.describe()"
   ]
  },
  {
   "cell_type": "code",
   "execution_count": null,
   "metadata": {
    "id": "GO_y0COwYRSL",
    "outputId": "1230364b-0cef-4ef9-c8b4-5ce6bb9a2820"
   },
   "outputs": [],
   "source": [
    "fig = plt.figure(figsize=(9,6))\n",
    "plt.scatter(data['Population'], data['Profit'])\n",
    "plt.plot([0, data['Population'].max()*1.1], [data['Profit'].mean(), data['Profit'].max()*0.9], 'r--')\n",
    "plt.annotate(\"модель\", (0,data['Profit'].mean()-1), color=\"red\")\n",
    "plt.xlim(left=0)\n",
    "plt.show()"
   ]
  },
  {
   "cell_type": "markdown",
   "metadata": {},
   "source": [
    "### Функция потерь"
   ]
  },
  {
   "cell_type": "markdown",
   "metadata": {},
   "source": [
    "Наша модель — прямая задается двумя параметрами $\\theta = (\\theta_0, \\theta_1)$, \n",
    "и предсказывает прибыль так:\n",
    "$$\\hat{y}(x) = \\theta_0 + \\theta_1 x$$\n",
    "\n",
    "Ошибка модели для заданного $x_i$ (населения) есть разность между предсказанной и реальной прибылью: $\\hat{y}(x_i)-y_i = \\theta_0 + \\theta_1 x_i - y_i$. Определим *функцию потерь* как половину среднего квадрата ошибки:\n",
    "$$ MSE(\\theta) = \\displaystyle\\frac{1}{2n}\\sum^{n}_{i=1}\\left(\\hat{y}(x_i)-y_i\\right)^2 = \\displaystyle\\frac{1}{2n}\\sum^{n}_{i=1}\\left( \\theta_0 + \\theta_1 x_i - y_i \\right)^2.$$\n",
    "\n",
    "Если данных много, то функция, определенная как питоновский цикл от 1 до n, будет работать медленно. Надо использовать векторные операции NumPy. Будем прицеливаться на общий случай, когда прибыль зависит от m параметров $x^{1}, x^{2}, \\ldots, x^{m}$, модель выглядит как $\\hat{y} = \\theta_0 + \\theta_1 x^1 + \\theta_2 x^2 +\\ldots + \\theta_m x^m$, поэтому вычисление $\\hat{y}$ тоже надо делать векторно, как $\\theta \\cdot x$. Но надо как-то включить $\\theta_0$.\n",
    "\n",
    "$$\\hat{y} = \\theta_0\\cdot 1 + \\theta_1 \\cdot x^1 + \\theta_2 \\cdot x^2 + \\ldots +\\theta_m \\cdot x^m$$\n",
    "\n",
    "Мы сделаем это, добавляя фиктивный столбик единиц в data:"
   ]
  },
  {
   "cell_type": "code",
<<<<<<< HEAD
   "execution_count": 7,
   "metadata": {
    "id": "GO_y0COwYRSL",
    "outputId": "1230364b-0cef-4ef9-c8b4-5ce6bb9a2820"
   },
   "outputs": [
    {
     "data": {
      "text/plain": [
       "<AxesSubplot:xlabel='Population', ylabel='Profit'>"
      ]
     },
     "execution_count": 7,
     "metadata": {},
     "output_type": "execute_result"
    },
    {
     "data": {
      "image/png": "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\n",
      "text/plain": [
       "<Figure size 864x576 with 1 Axes>"
      ]
     },
     "metadata": {
      "needs_background": "light"
     },
     "output_type": "display_data"
    }
   ],
=======
   "execution_count": null,
   "metadata": {},
   "outputs": [],
>>>>>>> upstream/main
   "source": [
    "data.insert(0, 'Ones', np.ones(len(data)))\n",
    "data"
   ]
  },
  {
   "cell_type": "code",
   "execution_count": 9,
   "metadata": {},
   "outputs": [],
   "source": [
    "x = np.array(data['Population'])\n",
    "y = np.array(data['Profit'])"
   ]
  },
  {
   "cell_type": "markdown",
   "metadata": {},
   "source": [
    "Выделим все столбики, кроме $y$, в матрицу, и умножим ее на вектор параметров $\\theta$\n",
    "\n",
    "$$\\hat{y} = X \\left[ \\begin{array}{c}\\theta_0 \\\\ \\theta_1\\end{array} \\right] =\n",
    "\\begin{array}{|cc|}\n",
    " \\hline\n",
    " 1 & 6.1\\cr\n",
    " 1 & 5.5\\cr\n",
    " ...\\cr\n",
    " 1 & 5.4\\cr\n",
    " \\hline\n",
    "\\end{array}\n",
    "\\cdot\n",
    "\\begin{array}{|c|}\n",
    " \\hline\n",
    " \\theta_0 \\cr\n",
    " \\theta_1 \\cr\n",
    " \\hline\n",
    "\\end{array} = \n",
    "\\begin{array}{|l|}\n",
    "\\hline\n",
    " 1\\cdot \\theta_0 + x_1 \\cdot \\theta_1\\cr\n",
    " 1\\cdot \\theta_0 + x_2 \\cdot \\theta_1\\cr\n",
    " ...\\cr\n",
    " 1\\cdot \\theta_0 + x_{n}\\cdot \\theta_1\\cr\n",
    " \\hline\n",
    "\\end{array}\n",
    "$$\n",
    "Получим матрицу ошибок. Остается вычесть столбик из $y_i$ (`Profit` в датафрейме), возвести полученную разность поэлементно в квадрат, и вычислить среднее\n",
    "$$MSE(\\theta) = \\displaystyle\\frac{1}{2n}\\sum^{n}_{i=1}\\left( \\theta_0 + \\theta_1 x_i - y_i \\right)^2.$$"
   ]
  },
  {
   "cell_type": "code",
   "execution_count": null,
   "metadata": {},
   "outputs": [],
   "source": [
    "# Создадим X (обучающую выборку) и y (целевой вектор)\n",
    "X = data.iloc[:,:-1].to_numpy()\n",
    "y = data['Profit'].to_numpy().reshape((-1,1))\n",
    "\n",
    "def MSE(theta):\n",
    "    return np.mean((X.dot(np.array(theta).reshape(2,1)) - y)**2) / 2"
   ]
  },
  {
   "cell_type": "code",
<<<<<<< HEAD
   "execution_count": 13,
   "metadata": {},
   "outputs": [],
   "source": [
    "def MSE(x, y, theta):\n",
    "    n = len(x)\n",
    "    b = np.ones(n)\n",
    "    A = np.stack([b, x]).T\n",
    "    return ((A.dot(theta)-y)**2).sum() / (2 * n)"
   ]
  },
  {
   "cell_type": "code",
   "execution_count": 10,
   "metadata": {
    "id": "f1R5SCu8YRSM"
   },
=======
   "execution_count": null,
   "metadata": {},
>>>>>>> upstream/main
   "outputs": [],
   "source": [
    "# проверим совпадение вычисления в питоновском цикле с векторным numpy\n",
    "theta = [1, 2]\n",
    "pythonSE = 0\n",
    "for i in range(len(data)):\n",
    "    pythonSE +=(theta[0] + theta[1]*data['Population'][i] - data['Profit'][i])**2\n",
    "pythonMSE = pythonSE/(2*len(data))\n",
    "pythonMSE, MSE(theta)"
   ]
  },
  {
   "cell_type": "markdown",
   "metadata": {},
   "source": [
    "### Градиентный спуск — случай одной переменной c одним параметром\n",
    "\n",
    "В качестве разминки рассмотрим упрощенную задачу с одним параметром. Для этого будем искать наилучшее приближение только среди прямых, проходящие через начало координат, то есть в качестве вектора параметров $\\theta$ брать только векторы с $\\theta_0=0$. В этом случае формула для функции потерь превращается в \n",
    "$$MSE_1(\\theta_1) = \\displaystyle\\frac{1}{2n}\\sum^{n}_{i=1}\\left( \\theta_1 x_i - y_i \\right)^2.$$\n",
    "Нарисуем, как меняется эта функция при изменении нашего единственного параметра $\\theta \\in (0, 5)$."
   ]
  },
  {
   "cell_type": "code",
   "execution_count": null,
   "metadata": {},
   "outputs": [],
   "source": [
    "def MSE1(th1):\n",
    "    return MSE([0, th1])"
   ]
  },
  {
   "cell_type": "code",
   "execution_count": 14,
   "metadata": {
    "scrolled": false
   },
   "outputs": [],
   "source": [
    "from matplotlib import animation\n",
    "\n",
    "MAX = 5\n",
    "\n",
    "\n",
    "def setupAxes(left, right):\n",
    "    # настройка отображения осей\n",
    "    left.set_xlim(-2, MAX)\n",
    "    left.set_ylim(0, mse[-1])\n",
    "    left.set_xlabel(r'$\\theta_1$')\n",
    "    left.set_ylabel(r'$MSE(\\theta_1)$')\n",
    "    left.grid()\n",
    "    \n",
    "    right.set_xlim(x[0], x[-1])\n",
    "    right.set_ylim(-5, 1.1 * data['Profit'].max())\n",
    "    right.set_xlabel('x')\n",
    "    right.set_ylabel('y')\n",
    "    right.grid()\n",
    "\n",
    "fig, (left, right) = plt.subplots(1,2, figsize=(9,5))\n",
    "\n",
    "# левый график - зависимость функции потерь от выбора параметра\n",
    "theta1 = np.linspace(-2, MAX, 300)                    # диапазон значений параметра theta1\n",
    "mse = [MSE1(th1) for th1 in theta1]                   # значения функции потерь при этих параметрах \n",
    "plot_thetaMSE, = left.plot(theta1, mse)               # график MSE(theta1)\n",
    "cur_loss = left.scatter(theta1[0], mse[0], color='r')\n",
    "\n",
    "\n",
    "# правый график - данные и текущее приближение модели\n",
    "x = np.linspace(0, 1.1*data['Population'].max(), 300) # диапазон значения населения\n",
    "scatter_data = right.scatter(data['Population'], data['Profit']) #  точки обучающей выборки\n",
    "cur_model, = right.plot(x, [0]*len(x), 'r--')\n",
    "\n",
    "setupAxes(left, right)\n",
    "\n",
    "def animate(i):\n",
    "    cur_loss.set_offsets((theta1[i], mse[i])) # рисуем текущую точку \"параметр - потери\"\n",
    "    cur_model.set_data(x, theta1[i]*x)        # рисуем график модели, соответствующей параметру\n",
    "    \n",
    "ani = animation.FuncAnimation(fig, animate, frames=len(theta1), interval=10, repeat=True)\n"
   ]
  },
  {
   "cell_type": "markdown",
   "metadata": {},
   "source": [
    "Будем искать оптимум итерационно, получая последовательность $\\theta_1^i$. Заметим, что градиент для функции одной переменной - это просто производная. Рассмотрим правило получения последовательных приближений в виде\n",
    "$$\\theta_1^{i+1} = \\theta_1^i - \\alpha MSE_1'(\\theta_1^i), $$\n",
    "где $\\alpha$ — некоторое положительное число, называемое скоростью обучения. Заметим, что если функция возрастает при движении вправо, то ее производная положительна, а значит, из-за добавки $-\\alpha MSE'$ следующее значение параметра будет левее текущего.\n",
    "\n",
    "Наоборот, если при текущем значении параметра $\\theta^i_1$ функция убывает при движении вправо, то ее производная отрицательна, а значит, из-за добавки $-\\alpha MSE'$ следующее значение параметра будет правее текущего.\n",
    "\n",
    "Таким образом, при небольших значениях $\\alpha$ мы получим движение в правильном направлении — в сторону минимума функции потерь.\n",
    "\n",
    "Найдем производную функции потерь по $\\theta_1$:\n",
    "$$MSE_1'(\\theta_1) = \\left(\\displaystyle\\frac{1}{2n}\\sum^{n}_{i=1}\\left( \\theta_1 x_i - y_i \\right)^2\\right)' = \\displaystyle\\frac{1}{2n}\\sum^{n}_{i=1}\\left(\\left( \\theta_1 x_i - y_i \\right)^2\\right)' = \\displaystyle\\frac{1}{2n}\\sum^{n}_{i=1}2(\\theta_1 x_i - y_i)\\cdot\\left( \\theta_1 x_i - y_i \\right)' = \\displaystyle\\frac{1}{n}\\sum^{n}_{i=1}(\\theta_1 x_i - y_i)x_i$$\n",
    "То есть производная половины среднеквадратичной ошибки — это среднее арифметическое ошибок, умноженных на значения признаков.\n",
    "\n",
    "Реализуем это в виде функции и построим итерационно до 20 точек (либо до нахождения параметра, дающего производную меньше $10^{-4}$) по формуле."
   ]
  },
  {
   "cell_type": "code",
<<<<<<< HEAD
   "execution_count": 15,
   "metadata": {
    "id": "R1tTbbjfYRSN"
   },
=======
   "execution_count": null,
   "metadata": {},
>>>>>>> upstream/main
   "outputs": [],
   "source": [
    "# Создадим X (обучающую выборку) и y (целевой вектор)\n",
    "cols = data.shape[1]\n",
    "X = data.iloc[:,0:cols-1].to_numpy()\n",
    "y = data.iloc[:,cols-1:cols].to_numpy().reshape((-1,1))\n",
    "\n",
    "def MSE(X, y, theta):\n",
    "    return np.mean((X.dot(theta.reshape(2,1)) - y)**2) / 2"
   ]
  },
  {
   "cell_type": "code",
   "execution_count": null,
   "metadata": {},
   "outputs": [],
   "source": [
    "ALPHA = 0.05\n",
    "TH1 = [4.5]\n",
    "th1_old = TH1[-1]\n",
    "dmse = dMSE1(th1_old, data)\n",
    "while abs(dmse)>=0.0001 and len(TH1)<20:\n",
    "    dmse = dMSE1(th1_old, data)\n",
    "    th1_new = th1_old - ALPHA * dmse\n",
    "    TH1.append(th1_new)\n",
    "    th1_old = th1_new\n",
    "TH1, dmse"
   ]
  },
  {
   "cell_type": "markdown",
   "metadata": {},
   "source": [
    "Выполните клетку ниже ▼.\n",
    "\n",
    "Как видно, процесс расходится. Это вызвано тем, что значения $\\theta_1$ и $MSE_1(\\theta_1)$ различаются на два порядка. Поэтому производная очень велика и при выбранной скорости обучения $\\alpha$, на следующей итерации мы не просто не сдвигаемся ближе к минимуму, а \"перелетаем\" через него в точку, которая еще дальше от него, чем текущая. \n",
    "\n",
    "**ЗАДАНИЯ:**  \n",
    "\n",
    "1. Подберите скорость обучения `ALPHA` в клетке выше ▲ так, чтобы появилась сходимость; \n",
    "2. добавьте еще одну клетку, где покажите значение найденного оптимального параметра;\n",
    "3. перезапустите анимацию в клетке ниже ▼. Сохраните тетрадку."
   ]
  },
  {
   "cell_type": "code",
<<<<<<< HEAD
   "execution_count": 16,
   "metadata": {
    "id": "oVsivsKhYRSO",
    "outputId": "127a2810-a124-4a1a-ddb5-92bb79e6ddc6"
   },
   "outputs": [
    {
     "data": {
      "text/html": [
       "<div>\n",
       "<style scoped>\n",
       "    .dataframe tbody tr th:only-of-type {\n",
       "        vertical-align: middle;\n",
       "    }\n",
       "\n",
       "    .dataframe tbody tr th {\n",
       "        vertical-align: top;\n",
       "    }\n",
       "\n",
       "    .dataframe thead th {\n",
       "        text-align: right;\n",
       "    }\n",
       "</style>\n",
       "<table border=\"1\" class=\"dataframe\">\n",
       "  <thead>\n",
       "    <tr style=\"text-align: right;\">\n",
       "      <th></th>\n",
       "      <th>Ones</th>\n",
       "      <th>Population</th>\n",
       "    </tr>\n",
       "  </thead>\n",
       "  <tbody>\n",
       "    <tr>\n",
       "      <th>0</th>\n",
       "      <td>1</td>\n",
       "      <td>6.1101</td>\n",
       "    </tr>\n",
       "    <tr>\n",
       "      <th>1</th>\n",
       "      <td>1</td>\n",
       "      <td>5.5277</td>\n",
       "    </tr>\n",
       "    <tr>\n",
       "      <th>2</th>\n",
       "      <td>1</td>\n",
       "      <td>8.5186</td>\n",
       "    </tr>\n",
       "    <tr>\n",
       "      <th>3</th>\n",
       "      <td>1</td>\n",
       "      <td>7.0032</td>\n",
       "    </tr>\n",
       "    <tr>\n",
       "      <th>4</th>\n",
       "      <td>1</td>\n",
       "      <td>5.8598</td>\n",
       "    </tr>\n",
       "  </tbody>\n",
       "</table>\n",
       "</div>"
      ],
      "text/plain": [
       "   Ones  Population\n",
       "0     1      6.1101\n",
       "1     1      5.5277\n",
       "2     1      8.5186\n",
       "3     1      7.0032\n",
       "4     1      5.8598"
      ]
     },
     "execution_count": 16,
     "metadata": {},
     "output_type": "execute_result"
    }
   ],
=======
   "execution_count": null,
   "metadata": {},
   "outputs": [],
   "source": [
    "from matplotlib import animation\n",
    "\n",
    "MAX = 5\n",
    "\n",
    "fig, (left, right) = plt.subplots(1,2, figsize=(9,5))\n",
    "\n",
    "# левый график - зависимость функции потерь от выбора параметра и приближения\n",
    "theta1 = np.linspace(-2, MAX, 300)                        # диапазон значений параметра\n",
    "mse = [MSE1(th1, data) for th1 in theta1]                # значения функции потерь при этих параметрах \n",
    "left.set_xlim(-2, MAX)\n",
    "left.set_ylim(0, mse[-1])\n",
    "left.set_xlabel(r'$\\theta_1$')\n",
    "left.set_ylabel(r'$MSE(\\theta_1)$')\n",
    "plot_thetaMSE, = left.plot(theta1, mse)\n",
    "\n",
    "mse1s = [MSE1(th1, data) for th1 in TH1]\n",
    "points = np.array(list(zip(TH1, mse1s)))\n",
    "cur_loss = left.scatter(*points[0], color='r', s=10)\n",
    "\n",
    "# правый график - данные и текущее приближение модели\n",
    "x = np.linspace(0, 1.1*data['Population'].max(), 300) # значения населения, на которых рисуем второй график\n",
    "right.set_xlim(x[0], x[-1])\n",
    "right.set_ylim(-5, 1.1*data['Profit'].max())\n",
    "right.set_xlabel('x')\n",
    "right.set_ylabel('y')\n",
    "right.grid()\n",
    "scatter_data = right.scatter(data['Population'], data['Profit'])\n",
    "cur_model, = right.plot(x, [0]*len(x), 'r--')\n",
    "\n",
    "def animate(i):\n",
    "    cur_loss.set_offsets(points[:i]) # рисуем приближения \"параметр_i - потери_i\"\n",
    "    cur_model.set_data(x, TH1[i]*x)        # рисуем график модели, соответствующей параметру\n",
    "    \n",
    "ani = animation.FuncAnimation(fig, animate, frames=len(TH1), interval=500, repeat=True)\n"
   ]
  },
  {
   "cell_type": "markdown",
   "metadata": {},
   "source": [
    "### Градиентный спуск — случай одной переменной c двумя параметрами\n",
    "\n",
    "Вернемся к случаю, когда прямая может сдвигаться от начала координат, то есть в приближении \n",
    "\n",
    "$$\\hat{y}(x) = \\theta_0 + \\theta_1x$$\n",
    "\n",
    "параметр $\\theta_0$ не равен 0. Теперь функция потерь зависит от двух переменных и вместо производной у нее будет градиент. \n",
    "\n",
    "$$MSE(\\theta) = \\displaystyle\\frac{1}{2n}\\sum^{n}_{i=1}\\left( \\theta_0 + \\theta_1 x_i - y_i \\right)^2.$$\n",
    "\n",
    "$$\\mathop{\\mathrm{grad}} MSE = \n",
    "\\left[\n",
    "\\begin{array}{c} \n",
    "\\displaystyle\\frac{\\partial MSE(\\theta)}{\\partial \\theta_0} \\\\ \n",
    "\\displaystyle\\frac{\\partial MSE(\\theta)}{\\partial \\theta_1} \n",
    "\\end{array}\n",
    "\\right] = \n",
    "\\left[\n",
    "\\begin{array}{c} \n",
    "\\displaystyle\\frac{1}{n}\\sum^{n}_{i=1}\\left( \\theta_0 + \\theta_1 x_i - y_i \\right) \\\\ \n",
    "\\displaystyle\\frac{1}{n}\\sum^{n}_{i=1}\\left( \\theta_0 + \\theta_1 x_i - y_i \\right)x_i \n",
    "\\end{array}\n",
    "\\right]\n",
    "$$\n",
    "\n",
    "Давайте нарисуем ее в виде контурного графика и нанесем векторы градиентов в некоторых точках"
   ]
  },
  {
   "cell_type": "code",
   "execution_count": null,
   "metadata": {},
   "outputs": [],
   "source": [
    "N, M = 401, 351\n",
    "th0 = np.linspace(-40, 40, N)\n",
    "th1 = np.linspace(-2, 5, M)\n",
    "TH0, TH1 = np.meshgrid(th0, th1)\n",
    "\n",
    "th0m = TH0.reshape(M, N, 1)\n",
    "th1m = TH1.reshape(M, N, 1)\n",
    "Xm = data['Population'].to_numpy().reshape(1,1,-1)\n",
    "ym = data['Profit'].to_numpy().reshape(1,1,-1)\n",
    "\n",
    "zMSE = ((th0m + th1m*Xm - ym)**2).mean(axis=2) / 2\n",
    "\n",
    "t0 = np.linspace(-40, 40, 9)\n",
    "t1 = np.linspace(-2, 5, 8)\n",
    "T0, T1 = np.meshgrid(t0, t1)\n",
    "t0m = T0.reshape(8, 9, 1)\n",
    "t1m = T1.reshape(8, 9, 1)\n",
    "dMSEdtg0 =  (t0m + t1m*Xm - ym).mean(axis=2) \n",
    "dMSEdtg1 = ((t0m + t1m*Xm - ym)*Xm).mean(axis=2) \n",
    "\n",
    "G = np.gradient(zMSE)\n",
    "dMSEdt0 = G[0][::50,::50]\n",
    "dMSEdt1 = G[1][::50,::50]\n",
    "\n",
    "\n",
    "fig, ax = plt.subplots()\n",
    "ax.set_xlabel(r'$\\theta_0$')\n",
    "ax.set_ylabel(r'$\\theta_1$')\n",
    "ax.set_title(r'$MSE(\\theta)$')\n",
    "ax.grid()\n",
    "ax.contour(TH0,TH1,zMSE, levels=50)\n",
    "ax.quiver(TH0[::50,::50], TH1[::50,::50], dMSEdt0, dMSEdt1)\n",
    "ax.quiver(T0, T1, dMSEdtg0, dMSEdtg1, color='red')\n",
    "\n",
    "plt.show()"
   ]
  },
  {
   "cell_type": "code",
   "execution_count": null,
   "metadata": {},
   "outputs": [],
   "source": [
    "th0.shape, th1.shape"
   ]
  },
  {
   "cell_type": "code",
   "execution_count": null,
   "metadata": {},
   "outputs": [],
   "source": [
    "th0[200], th1[150]"
   ]
  },
  {
   "cell_type": "code",
   "execution_count": null,
   "metadata": {},
   "outputs": [],
   "source": [
    "((1.5*data['Population']-data['Profit'])**2).mean()/2"
   ]
  },
  {
   "cell_type": "code",
   "execution_count": null,
   "metadata": {},
   "outputs": [],
>>>>>>> upstream/main
   "source": [
    "TH0[150,200]"
   ]
  },
  {
   "cell_type": "code",
<<<<<<< HEAD
   "execution_count": 17,
=======
   "execution_count": null,
   "metadata": {},
   "outputs": [],
   "source": [
    "TH0.shape"
   ]
  },
  {
   "cell_type": "code",
   "execution_count": null,
   "metadata": {},
   "outputs": [],
   "source": [
    "zMSE[150,200]"
   ]
  },
  {
   "cell_type": "code",
   "execution_count": null,
   "metadata": {},
   "outputs": [],
   "source": [
    "T0.shape"
   ]
  },
  {
   "cell_type": "markdown",
   "metadata": {},
   "source": [
    "В этом случае итерационная формула вместо \n",
    "\n",
    "$$\\theta_1^{i+1} = \\theta_1^i - \\alpha MSE_1'(\\theta_1^i) $$\n",
    "\n",
    "принимает вид\n",
    "\n",
    "$$\\left[\\begin{array}{c} \\theta_0^{i+1} \\\\ \\theta_1^{i+1}\\end{array}\\right]= \\left[\\begin{array}{c} \\theta_0^{i} \\\\ \\theta_1^{i}\\end{array}\\right] - \\alpha \\mathop{\\mathrm{grad}} MSE(\\theta^i) = \n",
    "\\left[\\begin{array}{c} \\theta_0^{i} \\\\ \\theta_1^{i}\\end{array}\\right] - \\alpha \\left[\\begin{array}{c} \\frac{\\partial MSE(\\theta^{i})}{\\partial \\theta_0} \\\\ \\frac{\\partial MSE(\\theta^{i})}{\\partial \\theta_0} \\end{array}\\right] $$"
   ]
  },
  {
   "cell_type": "markdown",
>>>>>>> upstream/main
   "metadata": {
    "id": "RlcDUYgDYRSL"
   },
<<<<<<< HEAD
   "outputs": [
    {
     "data": {
      "text/html": [
       "<div>\n",
       "<style scoped>\n",
       "    .dataframe tbody tr th:only-of-type {\n",
       "        vertical-align: middle;\n",
       "    }\n",
       "\n",
       "    .dataframe tbody tr th {\n",
       "        vertical-align: top;\n",
       "    }\n",
       "\n",
       "    .dataframe thead th {\n",
       "        text-align: right;\n",
       "    }\n",
       "</style>\n",
       "<table border=\"1\" class=\"dataframe\">\n",
       "  <thead>\n",
       "    <tr style=\"text-align: right;\">\n",
       "      <th></th>\n",
       "      <th>Profit</th>\n",
       "    </tr>\n",
       "  </thead>\n",
       "  <tbody>\n",
       "    <tr>\n",
       "      <th>0</th>\n",
       "      <td>17.5920</td>\n",
       "    </tr>\n",
       "    <tr>\n",
       "      <th>1</th>\n",
       "      <td>9.1302</td>\n",
       "    </tr>\n",
       "    <tr>\n",
       "      <th>2</th>\n",
       "      <td>13.6620</td>\n",
       "    </tr>\n",
       "    <tr>\n",
       "      <th>3</th>\n",
       "      <td>11.8540</td>\n",
       "    </tr>\n",
       "    <tr>\n",
       "      <th>4</th>\n",
       "      <td>6.8233</td>\n",
       "    </tr>\n",
       "  </tbody>\n",
       "</table>\n",
       "</div>"
      ],
      "text/plain": [
       "    Profit\n",
       "0  17.5920\n",
       "1   9.1302\n",
       "2  13.6620\n",
       "3  11.8540\n",
       "4   6.8233"
      ]
     },
     "execution_count": 17,
     "metadata": {},
     "output_type": "execute_result"
    }
   ],
=======
>>>>>>> upstream/main
   "source": [
    "Now let's implement linear regression using gradient descent to minimize the cost function.  The equations implemented in the following code samples are detailed in \"ex1.pdf\" in the \"exercises\" folder."
   ]
  },
  {
   "cell_type": "markdown",
   "metadata": {
    "id": "g8Ewi5xdYRSM"
   },
   "source": [
    "First we'll create a function to compute the cost of a given solution (characterized by the parameters theta)."
   ]
  },
  {
   "cell_type": "code",
   "execution_count": null,
   "metadata": {},
   "outputs": [],
   "source": []
  },
  {
   "cell_type": "code",
   "execution_count": null,
   "metadata": {
    "id": "R1tTbbjfYRSN"
   },
   "outputs": [],
   "source": []
  },
  {
   "cell_type": "markdown",
   "metadata": {
    "id": "ALJJvFLxYRSO"
   },
   "source": [
    "The cost function is expecting numpy matrices so we need to convert X and y before we can use them.  We also need to initialize theta."
   ]
  },
  {
   "cell_type": "code",
   "execution_count": 18,
   "metadata": {
    "id": "ONRhjSHNYRSP"
   },
   "outputs": [],
   "source": [
    "X = np.matrix(X.values)\n",
    "y = np.matrix(y.values)\n",
    "theta = np.matrix(np.array([0,0]))"
   ]
  },
  {
   "cell_type": "markdown",
   "metadata": {
    "id": "mjdUTgIdYRSP"
   },
   "source": [
    "Here's what theta looks like."
   ]
  },
  {
   "cell_type": "code",
   "execution_count": 19,
   "metadata": {
    "id": "mPGeejWoYRSP",
    "outputId": "de0f3ced-cb0d-410e-ef66-6fe158551c6f"
   },
<<<<<<< HEAD
   "outputs": [
    {
     "data": {
      "text/plain": [
       "matrix([[0, 0]])"
      ]
     },
     "execution_count": 19,
     "metadata": {},
     "output_type": "execute_result"
    }
   ],
=======
   "outputs": [],
>>>>>>> upstream/main
   "source": [
    "theta"
   ]
  },
  {
   "cell_type": "markdown",
   "metadata": {
    "id": "CVeCU74FYRSP"
   },
   "source": [
    "Let's take a quick look at the shape of our matrices."
   ]
  },
  {
   "cell_type": "code",
   "execution_count": 20,
   "metadata": {
    "id": "YSRoHlsTYRSP",
    "outputId": "b7a0b48c-a1c4-4d88-82c3-f8a4df1db1ef"
   },
<<<<<<< HEAD
   "outputs": [
    {
     "data": {
      "text/plain": [
       "((97, 2), (1, 2), (97, 1))"
      ]
     },
     "execution_count": 20,
     "metadata": {},
     "output_type": "execute_result"
    }
   ],
=======
   "outputs": [],
>>>>>>> upstream/main
   "source": [
    "X.shape, theta.shape, y.shape"
   ]
  },
  {
   "cell_type": "markdown",
   "metadata": {
    "id": "1kFH42zoYRSQ"
   },
   "source": [
    "Now let's compute the cost for our initial solution (0 values for theta)."
   ]
  },
  {
   "cell_type": "code",
   "execution_count": 21,
   "metadata": {
    "id": "Yb2gT7UaYRSQ",
    "outputId": "945228fe-2823-4ad5-884e-7712f320c502"
   },
<<<<<<< HEAD
   "outputs": [
    {
     "data": {
      "text/plain": [
       "32.072733877455676"
      ]
     },
     "execution_count": 21,
     "metadata": {},
     "output_type": "execute_result"
    }
   ],
=======
   "outputs": [],
>>>>>>> upstream/main
   "source": [
    "computeCost(X, y, theta)"
   ]
  },
  {
   "cell_type": "markdown",
   "metadata": {
    "id": "pz-gOf--YRSQ"
   },
   "source": [
    "So far so good.  Now we need to define a function to perform gradient descent on the parameters theta using the update rules defined in the text."
   ]
  },
  {
   "cell_type": "code",
   "execution_count": 22,
   "metadata": {
    "id": "Mx_Sk9tiYRSQ"
   },
   "outputs": [],
   "source": [
    "def gradientDescent(X, y, theta, alpha, iters):\n",
    "    temp = np.matrix(np.zeros(theta.shape))\n",
    "    parameters = int(theta.ravel().shape[1])\n",
    "    cost = np.zeros(iters)\n",
    "    \n",
    "    for i in range(iters):\n",
    "        error = (X * theta.T) - y\n",
    "        \n",
    "        for j in range(parameters):\n",
    "            term = np.multiply(error, X[:,j])\n",
    "            temp[0,j] = theta[0,j] - ((alpha / len(X)) * np.sum(term))\n",
    "            \n",
    "        theta = temp\n",
    "        cost[i] = computeCost(X, y, theta)\n",
    "        \n",
    "    return theta, cost"
   ]
  },
  {
   "cell_type": "markdown",
   "metadata": {
    "id": "bYZw84kZYRSR"
   },
   "source": [
    "Initialize some additional variables - the learning rate alpha, and the number of iterations to perform."
   ]
  },
  {
   "cell_type": "code",
   "execution_count": null,
   "metadata": {
    "id": "hM4K9O_bYRSR"
   },
   "outputs": [],
   "source": [
    "alpha = 0.01\n",
    "iters = 1000"
   ]
  },
  {
   "cell_type": "markdown",
   "metadata": {
    "id": "N40OX1xgYRSR"
   },
   "source": [
    "Now let's run the gradient descent algorithm to fit our parameters theta to the training set."
   ]
  },
  {
   "cell_type": "code",
   "execution_count": null,
   "metadata": {
    "id": "Uda_3cx-YRSR",
    "outputId": "19c0bd8b-6a74-4cc4-e997-8a04540e66c3"
   },
   "outputs": [],
   "source": [
    "g, cost = gradientDescent(X, y, theta, alpha, iters)\n",
    "g"
   ]
  },
  {
   "cell_type": "markdown",
   "metadata": {
    "id": "Vc2BY-rJYRSS"
   },
   "source": [
    "Finally we can compute the cost (error) of the trained model using our fitted parameters."
   ]
  },
  {
   "cell_type": "code",
   "execution_count": null,
   "metadata": {
    "id": "KAIqk53zYRSS",
    "outputId": "b570417f-ccac-4509-d0d6-bb8bca2ba2a9"
   },
   "outputs": [],
   "source": [
    "computeCost(X, y, g)"
   ]
  },
  {
   "cell_type": "markdown",
   "metadata": {
    "id": "o0X70dMCYRSS"
   },
   "source": [
    "Now let's plot the linear model along with the data to visually see how well it fits."
   ]
  },
  {
   "cell_type": "code",
   "execution_count": null,
   "metadata": {
    "id": "3rQBl49tYRSS",
    "outputId": "36ee9a00-22e9-475f-b4e2-708cab572b6e"
   },
   "outputs": [],
   "source": [
    "x = np.linspace(data.Population.min(), data.Population.max(), 100)\n",
    "f = g[0, 0] + (g[0, 1] * x)\n",
    "\n",
    "fig, ax = plt.subplots(figsize=(12,8))\n",
    "ax.plot(x, f, 'r', label='Prediction')\n",
    "ax.scatter(data.Population, data.Profit, label='Traning Data')\n",
    "ax.legend(loc=2)\n",
    "ax.set_xlabel('Population')\n",
    "ax.set_ylabel('Profit')\n",
    "ax.set_title('Predicted Profit vs. Population Size')"
   ]
  },
  {
   "cell_type": "markdown",
   "metadata": {
    "id": "Kh9FaYkvYRST"
   },
   "source": [
    "Looks pretty good!  Since the gradient decent function also outputs a vector with the cost at each training iteration, we can plot that as well.  Notice that the cost always decreases - this is an example of a convex optimization problem."
   ]
  },
  {
   "cell_type": "code",
   "execution_count": null,
   "metadata": {
    "id": "E5esvR5iYRST",
    "outputId": "7eab7dc5-65f1-4a25-99d4-bca4496bb83b"
   },
   "outputs": [],
   "source": [
    "fig, ax = plt.subplots(figsize=(12,8))\n",
    "ax.plot(np.arange(iters), cost, 'r')\n",
    "ax.set_xlabel('Iterations')\n",
    "ax.set_ylabel('Cost')\n",
    "ax.set_title('Error vs. Training Epoch')"
   ]
  },
  {
   "cell_type": "markdown",
   "metadata": {
    "id": "lMn2nX2rYRST"
   },
   "source": [
    "## Linear regression with multiple variables"
   ]
  },
  {
   "cell_type": "markdown",
   "metadata": {
    "id": "5hKbmh2pYRSU"
   },
   "source": [
    "Exercise 1 also included a housing price data set with 2 variables (size of the house in square feet and number of bedrooms) and a target (price of the house).  Let's use the techniques we already applied to analyze that data set as well."
   ]
  },
  {
   "cell_type": "code",
   "execution_count": null,
   "metadata": {
    "id": "1cHsgSS4YRSU",
    "outputId": "772cd882-427d-4928-a7ba-fe6c93ebf0a5"
   },
   "outputs": [],
   "source": [
    "path = os.getcwd() + '\\data\\ex1data2.txt'\n",
    "data2 = pd.read_csv(path, header=None, names=['Size', 'Bedrooms', 'Price'])\n",
    "data2.head()"
   ]
  },
  {
   "cell_type": "markdown",
   "metadata": {
    "id": "KowucinpYRSU"
   },
   "source": [
    "For this task we add another pre-processing step - normalizing the features.  This is very easy with pandas."
   ]
  },
  {
   "cell_type": "code",
   "execution_count": null,
   "metadata": {
    "id": "tyVWQloRYRSU",
    "outputId": "53ee0d01-2bd4-48ee-e8ca-4607b77bbd29"
   },
   "outputs": [],
   "source": [
    "data2 = (data2 - data2.mean()) / data2.std()\n",
    "data2.head()"
   ]
  },
  {
   "cell_type": "markdown",
   "metadata": {
    "id": "8--6Y-XkYRSV"
   },
   "source": [
    "Now let's repeat our pre-processing steps from part 1 and run the linear regression procedure on the new data set."
   ]
  },
  {
   "cell_type": "code",
   "execution_count": null,
   "metadata": {
    "id": "G4QHnvsFYRSV",
    "outputId": "a0677456-1861-4b4f-c87d-38455f591ce6"
   },
   "outputs": [],
   "source": [
    "# add ones column\n",
    "data2.insert(0, 'Ones', 1)\n",
    "\n",
    "# set X (training data) and y (target variable)\n",
    "cols = data2.shape[1]\n",
    "X2 = data2.iloc[:,0:cols-1]\n",
    "y2 = data2.iloc[:,cols-1:cols]\n",
    "\n",
    "# convert to matrices and initialize theta\n",
    "X2 = np.matrix(X2.values)\n",
    "y2 = np.matrix(y2.values)\n",
    "theta2 = np.matrix(np.array([0,0,0]))\n",
    "\n",
    "# perform linear regression on the data set\n",
    "g2, cost2 = gradientDescent(X2, y2, theta2, alpha, iters)\n",
    "\n",
    "# get the cost (error) of the model\n",
    "computeCost(X2, y2, g2)"
   ]
  },
  {
   "cell_type": "markdown",
   "metadata": {
    "id": "3c-b5Ek4YRSV"
   },
   "source": [
    "We can take a quick look at the training progess for this one as well."
   ]
  },
  {
   "cell_type": "code",
   "execution_count": null,
   "metadata": {
    "id": "RDSyXJpfYRSV",
    "outputId": "be4aa519-1d86-48f3-af52-10322aef25ef"
   },
   "outputs": [],
   "source": [
    "fig, ax = plt.subplots(figsize=(12,8))\n",
    "ax.plot(np.arange(iters), cost2, 'r')\n",
    "ax.set_xlabel('Iterations')\n",
    "ax.set_ylabel('Cost')\n",
    "ax.set_title('Error vs. Training Epoch')"
   ]
  },
  {
   "cell_type": "markdown",
   "metadata": {
    "id": "4Xb6XGS-YRSW"
   },
   "source": [
    "Instead of implementing these algorithms from scratch, we could also use scikit-learn's linear regression function.  Let's apply scikit-learn's linear regressio algorithm to the data from part 1 and see what it comes up with."
   ]
  },
  {
   "cell_type": "code",
   "execution_count": null,
   "metadata": {
    "id": "sPEyWlj7YRSY",
    "outputId": "6908f208-3395-481a-d3b5-48fe1a9be34f"
   },
   "outputs": [],
   "source": [
    "from sklearn import linear_model\n",
    "model = linear_model.LinearRegression()\n",
    "model.fit(X, y)"
   ]
  },
  {
   "cell_type": "markdown",
   "metadata": {
    "id": "8vvUvULBYRSY"
   },
   "source": [
    "Here's what the scikit-learn model's predictions look like."
   ]
  },
  {
   "cell_type": "code",
   "execution_count": null,
   "metadata": {
    "id": "Z-k076loYRSY",
    "outputId": "154be3c2-23cb-43b5-f510-271a27e86f07"
   },
   "outputs": [],
   "source": [
    "x = np.array(X[:, 1].A1)\n",
    "f = model.predict(X).flatten()\n",
    "\n",
    "fig, ax = plt.subplots(figsize=(12,8))\n",
    "ax.plot(x, f, 'r', label='Prediction')\n",
    "ax.scatter(data.Population, data.Profit, label='Traning Data')\n",
    "ax.legend(loc=2)\n",
    "ax.set_xlabel('Population')\n",
    "ax.set_ylabel('Profit')\n",
    "ax.set_title('Predicted Profit vs. Population Size')"
   ]
  },
  {
   "cell_type": "markdown",
   "metadata": {
    "id": "0NU952GjYRSZ"
   },
   "source": [
    "That's it!  Thanks for reading.  In Exercise 2 we'll take a look at logistic regression for classification problems."
   ]
  }
 ],
 "metadata": {
  "colab": {
   "name": "Копия блокнота \"Копия блокнота \"ML-Exercise1.ipynb\"\"",
   "provenance": [
    {
     "file_id": "1OPWRtUPan7ZnGnrhX-VZ22tjeru4kjj5",
     "timestamp": 1614746619819
    },
    {
     "file_id": "https://github.com/jdwittenauer/ipython-notebooks/blob/master/notebooks/ml/ML-Exercise1.ipynb",
     "timestamp": 1614746584907
    }
   ]
  },
  "kernelspec": {
   "display_name": "Python 3",
   "language": "python",
   "name": "python3"
  },
  "language_info": {
   "codemirror_mode": {
    "name": "ipython",
    "version": 3
   },
   "file_extension": ".py",
   "mimetype": "text/x-python",
   "name": "python",
   "nbconvert_exporter": "python",
   "pygments_lexer": "ipython3",
   "version": "3.8.5"
  }
 },
 "nbformat": 4,
 "nbformat_minor": 1
}
